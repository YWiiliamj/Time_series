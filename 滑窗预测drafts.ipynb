{
 "cells": [
  {
   "cell_type": "code",
   "execution_count": 1,
   "id": "f759a855",
   "metadata": {},
   "outputs": [],
   "source": [
    "import numpy as np\n",
    "import pandas as pd \n",
    "import os\n",
    "from tqdm import tqdm\n",
    "import matplotlib.pyplot as plt\n",
    "from scipy.fft import fft\n",
    "from sklearn.feature_selection import SelectFromModel\n",
    "from sklearn.ensemble import ExtraTreesRegressor\n",
    "from sklearn.model_selection import GridSearchCV\n",
    "from sklearn.linear_model import LinearRegression\n",
    "from sklearn.preprocessing import StandardScaler\n",
    "from sklearn.impute import SimpleImputer\n",
    "from sklearn.pipeline import Pipeline\n",
    "from sklearn.ensemble import RandomForestRegressor\n",
    "from sklearn.metrics import mean_absolute_percentage_error, r2_score, mean_absolute_error, mean_squared_error\n",
    "from datetime import datetime \n",
    "\n",
    "import warnings\n",
    "warnings.filterwarnings('ignore')\n",
    "\n",
    "from sklearn.feature_selection import VarianceThreshold, RFE\n",
    "from sklearn.linear_model import LogisticRegression \n",
    "from sklearn.linear_model import LassoCV"
   ]
  },
  {
   "cell_type": "code",
   "execution_count": 2,
   "id": "38c47456",
   "metadata": {},
   "outputs": [],
   "source": [
    "root = 'D:/Jupyterfiles/ThermalData/2021-01/'\n",
    "file_paths = os.listdir(root)\n",
    "\n",
    "data = pd.read_excel(os.path.join(root, file_paths[0]))\n",
    "for i in range(1, len(file_paths)):\n",
    "    single_file_data = pd.read_excel(os.path.join(root, file_paths[i]))\n",
    "    data = pd.merge(data, single_file_data, how='left', on=['时间'])"
   ]
  },
  {
   "cell_type": "code",
   "execution_count": null,
   "id": "8096b9fd",
   "metadata": {},
   "outputs": [],
   "source": []
  },
  {
   "cell_type": "markdown",
   "id": "0b9c38f0",
   "metadata": {},
   "source": [
    "### 数据处理"
   ]
  },
  {
   "cell_type": "code",
   "execution_count": 3,
   "id": "7c4dd74a",
   "metadata": {},
   "outputs": [],
   "source": [
    "internal_factors = ['10MKA10CE301XQ01', '10MKA10CE301XQ02', '10MKA10CE101XQ01', '10MKA10CE101XQ02', '10MKA10CE101XQ03',\n",
    "                  '10MKF30CT302', '10MKG10CT301', '10MKG10CT303', '10MKG10CT305', '10MKG10CT307']\n",
    "\n",
    "external_factors = ['10MKA01CT301','10MKA01CT303','10MKA01CT305','10MKA01CT307','10MKA01CT309','10MKA01CT311',\n",
    "                    '10MKA01CT313','10MKA01CT315','10MKA01CT317','10MKA01CT319','10MKA01CT321','10MKA01CT323',\n",
    "                    '10MKA01CT325','10MKA01CT327','10MKA01CT329','10MKA01CT331','10MKA01CT333','10MKA01CT335',\n",
    "                    '10MKA01CT337','10MKA01CT339','10MKA01CT341','10MKA01CT343','10MKA01CT345','10MKA01CT347',\n",
    "                    '10MKA01CT349','10MKA01CT351','10MKA01CT353','10MKA01CT355','10MKA01CT357','10MKA01CT359',\n",
    "                    '10MKA01CT361','10MKA01CT363','10MKA01CT365','10MKA01CT367','10MKA01CT369','10MKA01CT371','10MKA01CT373',\n",
    "                    '10MKA01CT375','10MKA01CT377','10MKA01CT379','10MKA01CT381','10MKA01CT383','10MKA01CT601','10MKA01CT602',\n",
    "                    '10MKA01CT603','10MKA01CT604','10MKA01CT605','10MKA01CT606','10MKA01CT607','10MKA01CT608','10MKA01CT609',\n",
    "                    '10MKA01CT610','10MKA01CT611','10MKA01CT612','10MKA01CT613','10MKA01CT614','10MKA01CT615','10MKA01CT616',\n",
    "                    '10MKA01CT617','10MKA01CT618']\n",
    "\n",
    "target_column=['10MKA10CE301XQ01']"
   ]
  },
  {
   "cell_type": "code",
   "execution_count": 4,
   "id": "07c5c824",
   "metadata": {
    "scrolled": true
   },
   "outputs": [
    {
     "data": {
      "text/html": [
       "<div>\n",
       "<style scoped>\n",
       "    .dataframe tbody tr th:only-of-type {\n",
       "        vertical-align: middle;\n",
       "    }\n",
       "\n",
       "    .dataframe tbody tr th {\n",
       "        vertical-align: top;\n",
       "    }\n",
       "\n",
       "    .dataframe thead th {\n",
       "        text-align: right;\n",
       "    }\n",
       "</style>\n",
       "<table border=\"1\" class=\"dataframe\">\n",
       "  <thead>\n",
       "    <tr style=\"text-align: right;\">\n",
       "      <th></th>\n",
       "      <th>10MKA01CT616</th>\n",
       "      <th>10MKF30CT302</th>\n",
       "      <th>10MKA01CT614</th>\n",
       "      <th>10MKA01CT301</th>\n",
       "      <th>10MKA01CT375</th>\n",
       "      <th>10MKA01CT355</th>\n",
       "      <th>10MKA01CT610</th>\n",
       "      <th>10MKA01CT603</th>\n",
       "      <th>10MKA01CT305</th>\n",
       "      <th>TIME</th>\n",
       "      <th>...</th>\n",
       "      <th>10MKA01CT361</th>\n",
       "      <th>10MKA01CT609</th>\n",
       "      <th>10MKA01CT365</th>\n",
       "      <th>10MKA10CE301XQ02</th>\n",
       "      <th>10MKA01CT367</th>\n",
       "      <th>10MKA01CT345</th>\n",
       "      <th>10MKA01CT333</th>\n",
       "      <th>10MKA01CT618</th>\n",
       "      <th>10MKA01CT353</th>\n",
       "      <th>10MKA01CT335</th>\n",
       "    </tr>\n",
       "  </thead>\n",
       "  <tbody>\n",
       "    <tr>\n",
       "      <th>0</th>\n",
       "      <td>45.571431</td>\n",
       "      <td>40.782337</td>\n",
       "      <td>43.251492</td>\n",
       "      <td>48.542645</td>\n",
       "      <td>49.343246</td>\n",
       "      <td>47.129146</td>\n",
       "      <td>46.449845</td>\n",
       "      <td>45.648443</td>\n",
       "      <td>49.850502</td>\n",
       "      <td>2021-01-01 00:00:00</td>\n",
       "      <td>...</td>\n",
       "      <td>52.641781</td>\n",
       "      <td>42.954588</td>\n",
       "      <td>49.470055</td>\n",
       "      <td>30.699219</td>\n",
       "      <td>48.962856</td>\n",
       "      <td>49.977325</td>\n",
       "      <td>48.709290</td>\n",
       "      <td>45.444761</td>\n",
       "      <td>49.723679</td>\n",
       "      <td>48.531802</td>\n",
       "    </tr>\n",
       "    <tr>\n",
       "      <th>1</th>\n",
       "      <td>46.491872</td>\n",
       "      <td>41.111195</td>\n",
       "      <td>43.644676</td>\n",
       "      <td>48.834506</td>\n",
       "      <td>49.470055</td>\n",
       "      <td>47.315006</td>\n",
       "      <td>46.449838</td>\n",
       "      <td>45.425684</td>\n",
       "      <td>50.104156</td>\n",
       "      <td>2021-01-01 00:30:00</td>\n",
       "      <td>...</td>\n",
       "      <td>52.768715</td>\n",
       "      <td>43.162907</td>\n",
       "      <td>49.596863</td>\n",
       "      <td>35.494482</td>\n",
       "      <td>49.089649</td>\n",
       "      <td>50.104156</td>\n",
       "      <td>48.836071</td>\n",
       "      <td>45.778702</td>\n",
       "      <td>49.850502</td>\n",
       "      <td>48.582512</td>\n",
       "    </tr>\n",
       "    <tr>\n",
       "      <th>2</th>\n",
       "      <td>46.556899</td>\n",
       "      <td>41.743710</td>\n",
       "      <td>43.513538</td>\n",
       "      <td>49.177155</td>\n",
       "      <td>49.723679</td>\n",
       "      <td>47.695206</td>\n",
       "      <td>46.135410</td>\n",
       "      <td>45.736603</td>\n",
       "      <td>50.433939</td>\n",
       "      <td>2021-01-01 01:00:00</td>\n",
       "      <td>...</td>\n",
       "      <td>53.149540</td>\n",
       "      <td>42.915893</td>\n",
       "      <td>49.977325</td>\n",
       "      <td>10.618408</td>\n",
       "      <td>49.470055</td>\n",
       "      <td>50.484676</td>\n",
       "      <td>49.216446</td>\n",
       "      <td>45.740217</td>\n",
       "      <td>50.230991</td>\n",
       "      <td>48.962856</td>\n",
       "    </tr>\n",
       "    <tr>\n",
       "      <th>3</th>\n",
       "      <td>46.303973</td>\n",
       "      <td>41.743710</td>\n",
       "      <td>43.652269</td>\n",
       "      <td>49.177155</td>\n",
       "      <td>49.723679</td>\n",
       "      <td>47.568466</td>\n",
       "      <td>46.503374</td>\n",
       "      <td>45.525391</td>\n",
       "      <td>50.357834</td>\n",
       "      <td>2021-01-01 01:30:00</td>\n",
       "      <td>...</td>\n",
       "      <td>53.022594</td>\n",
       "      <td>43.239925</td>\n",
       "      <td>49.850502</td>\n",
       "      <td>7.450049</td>\n",
       "      <td>49.381289</td>\n",
       "      <td>50.357834</td>\n",
       "      <td>49.089649</td>\n",
       "      <td>45.740217</td>\n",
       "      <td>50.230991</td>\n",
       "      <td>48.836071</td>\n",
       "    </tr>\n",
       "    <tr>\n",
       "      <th>4</th>\n",
       "      <td>45.632652</td>\n",
       "      <td>41.617195</td>\n",
       "      <td>42.942677</td>\n",
       "      <td>48.415760</td>\n",
       "      <td>48.962856</td>\n",
       "      <td>46.808140</td>\n",
       "      <td>45.763241</td>\n",
       "      <td>45.295003</td>\n",
       "      <td>49.470055</td>\n",
       "      <td>2021-01-01 02:00:00</td>\n",
       "      <td>...</td>\n",
       "      <td>52.134102</td>\n",
       "      <td>42.842457</td>\n",
       "      <td>49.089649</td>\n",
       "      <td>-6.679443</td>\n",
       "      <td>48.709290</td>\n",
       "      <td>49.596863</td>\n",
       "      <td>48.328972</td>\n",
       "      <td>44.975907</td>\n",
       "      <td>49.470055</td>\n",
       "      <td>48.202209</td>\n",
       "    </tr>\n",
       "    <tr>\n",
       "      <th>...</th>\n",
       "      <td>...</td>\n",
       "      <td>...</td>\n",
       "      <td>...</td>\n",
       "      <td>...</td>\n",
       "      <td>...</td>\n",
       "      <td>...</td>\n",
       "      <td>...</td>\n",
       "      <td>...</td>\n",
       "      <td>...</td>\n",
       "      <td>...</td>\n",
       "      <td>...</td>\n",
       "      <td>...</td>\n",
       "      <td>...</td>\n",
       "      <td>...</td>\n",
       "      <td>...</td>\n",
       "      <td>...</td>\n",
       "      <td>...</td>\n",
       "      <td>...</td>\n",
       "      <td>...</td>\n",
       "      <td>...</td>\n",
       "      <td>...</td>\n",
       "    </tr>\n",
       "    <tr>\n",
       "      <th>1484</th>\n",
       "      <td>48.908298</td>\n",
       "      <td>43.262230</td>\n",
       "      <td>46.327650</td>\n",
       "      <td>51.589413</td>\n",
       "      <td>52.134102</td>\n",
       "      <td>50.484676</td>\n",
       "      <td>47.843213</td>\n",
       "      <td>49.007668</td>\n",
       "      <td>52.895653</td>\n",
       "      <td>2021-01-31 22:00:00</td>\n",
       "      <td>...</td>\n",
       "      <td>55.689495</td>\n",
       "      <td>45.222584</td>\n",
       "      <td>52.134102</td>\n",
       "      <td>-81.993066</td>\n",
       "      <td>51.499611</td>\n",
       "      <td>52.895653</td>\n",
       "      <td>51.499611</td>\n",
       "      <td>48.610760</td>\n",
       "      <td>52.514854</td>\n",
       "      <td>50.992104</td>\n",
       "    </tr>\n",
       "    <tr>\n",
       "      <th>1485</th>\n",
       "      <td>49.148505</td>\n",
       "      <td>43.009094</td>\n",
       "      <td>46.580556</td>\n",
       "      <td>51.462406</td>\n",
       "      <td>52.007195</td>\n",
       "      <td>50.230991</td>\n",
       "      <td>48.038071</td>\n",
       "      <td>48.797813</td>\n",
       "      <td>52.768715</td>\n",
       "      <td>2021-01-31 22:30:00</td>\n",
       "      <td>...</td>\n",
       "      <td>55.562450</td>\n",
       "      <td>45.395409</td>\n",
       "      <td>52.007195</td>\n",
       "      <td>-83.577197</td>\n",
       "      <td>51.372726</td>\n",
       "      <td>52.641781</td>\n",
       "      <td>51.372726</td>\n",
       "      <td>48.748110</td>\n",
       "      <td>52.261017</td>\n",
       "      <td>50.865242</td>\n",
       "    </tr>\n",
       "    <tr>\n",
       "      <th>1486</th>\n",
       "      <td>48.698403</td>\n",
       "      <td>43.009094</td>\n",
       "      <td>46.151197</td>\n",
       "      <td>51.462406</td>\n",
       "      <td>52.007195</td>\n",
       "      <td>50.230991</td>\n",
       "      <td>48.060989</td>\n",
       "      <td>48.969429</td>\n",
       "      <td>52.768715</td>\n",
       "      <td>2021-01-31 23:00:00</td>\n",
       "      <td>...</td>\n",
       "      <td>55.562450</td>\n",
       "      <td>45.510593</td>\n",
       "      <td>52.007195</td>\n",
       "      <td>-85.332666</td>\n",
       "      <td>51.372726</td>\n",
       "      <td>52.768715</td>\n",
       "      <td>51.480578</td>\n",
       "      <td>48.366386</td>\n",
       "      <td>52.337166</td>\n",
       "      <td>50.865242</td>\n",
       "    </tr>\n",
       "    <tr>\n",
       "      <th>1487</th>\n",
       "      <td>48.664066</td>\n",
       "      <td>43.009094</td>\n",
       "      <td>46.128193</td>\n",
       "      <td>51.335407</td>\n",
       "      <td>51.880291</td>\n",
       "      <td>50.230991</td>\n",
       "      <td>47.759022</td>\n",
       "      <td>49.026623</td>\n",
       "      <td>52.692554</td>\n",
       "      <td>2021-01-31 23:30:00</td>\n",
       "      <td>...</td>\n",
       "      <td>55.562450</td>\n",
       "      <td>45.149487</td>\n",
       "      <td>51.880291</td>\n",
       "      <td>-94.495280</td>\n",
       "      <td>51.330434</td>\n",
       "      <td>52.641781</td>\n",
       "      <td>51.372726</td>\n",
       "      <td>48.404556</td>\n",
       "      <td>52.261017</td>\n",
       "      <td>50.738380</td>\n",
       "    </tr>\n",
       "    <tr>\n",
       "      <th>1488</th>\n",
       "      <td>48.549586</td>\n",
       "      <td>42.755978</td>\n",
       "      <td>45.759958</td>\n",
       "      <td>50.116457</td>\n",
       "      <td>50.611526</td>\n",
       "      <td>49.038932</td>\n",
       "      <td>47.644345</td>\n",
       "      <td>48.420044</td>\n",
       "      <td>51.372726</td>\n",
       "      <td>2021-02-01 00:00:00</td>\n",
       "      <td>...</td>\n",
       "      <td>54.120845</td>\n",
       "      <td>44.941983</td>\n",
       "      <td>50.814497</td>\n",
       "      <td>-97.021509</td>\n",
       "      <td>50.230991</td>\n",
       "      <td>51.372726</td>\n",
       "      <td>50.104156</td>\n",
       "      <td>48.160192</td>\n",
       "      <td>51.118973</td>\n",
       "      <td>49.768067</td>\n",
       "    </tr>\n",
       "  </tbody>\n",
       "</table>\n",
       "<p>1489 rows × 71 columns</p>\n",
       "</div>"
      ],
      "text/plain": [
       "      10MKA01CT616  10MKF30CT302  10MKA01CT614  10MKA01CT301  10MKA01CT375  \\\n",
       "0        45.571431     40.782337     43.251492     48.542645     49.343246   \n",
       "1        46.491872     41.111195     43.644676     48.834506     49.470055   \n",
       "2        46.556899     41.743710     43.513538     49.177155     49.723679   \n",
       "3        46.303973     41.743710     43.652269     49.177155     49.723679   \n",
       "4        45.632652     41.617195     42.942677     48.415760     48.962856   \n",
       "...            ...           ...           ...           ...           ...   \n",
       "1484     48.908298     43.262230     46.327650     51.589413     52.134102   \n",
       "1485     49.148505     43.009094     46.580556     51.462406     52.007195   \n",
       "1486     48.698403     43.009094     46.151197     51.462406     52.007195   \n",
       "1487     48.664066     43.009094     46.128193     51.335407     51.880291   \n",
       "1488     48.549586     42.755978     45.759958     50.116457     50.611526   \n",
       "\n",
       "      10MKA01CT355  10MKA01CT610  10MKA01CT603  10MKA01CT305  \\\n",
       "0        47.129146     46.449845     45.648443     49.850502   \n",
       "1        47.315006     46.449838     45.425684     50.104156   \n",
       "2        47.695206     46.135410     45.736603     50.433939   \n",
       "3        47.568466     46.503374     45.525391     50.357834   \n",
       "4        46.808140     45.763241     45.295003     49.470055   \n",
       "...            ...           ...           ...           ...   \n",
       "1484     50.484676     47.843213     49.007668     52.895653   \n",
       "1485     50.230991     48.038071     48.797813     52.768715   \n",
       "1486     50.230991     48.060989     48.969429     52.768715   \n",
       "1487     50.230991     47.759022     49.026623     52.692554   \n",
       "1488     49.038932     47.644345     48.420044     51.372726   \n",
       "\n",
       "                    TIME  ...  10MKA01CT361  10MKA01CT609  10MKA01CT365  \\\n",
       "0    2021-01-01 00:00:00  ...     52.641781     42.954588     49.470055   \n",
       "1    2021-01-01 00:30:00  ...     52.768715     43.162907     49.596863   \n",
       "2    2021-01-01 01:00:00  ...     53.149540     42.915893     49.977325   \n",
       "3    2021-01-01 01:30:00  ...     53.022594     43.239925     49.850502   \n",
       "4    2021-01-01 02:00:00  ...     52.134102     42.842457     49.089649   \n",
       "...                  ...  ...           ...           ...           ...   \n",
       "1484 2021-01-31 22:00:00  ...     55.689495     45.222584     52.134102   \n",
       "1485 2021-01-31 22:30:00  ...     55.562450     45.395409     52.007195   \n",
       "1486 2021-01-31 23:00:00  ...     55.562450     45.510593     52.007195   \n",
       "1487 2021-01-31 23:30:00  ...     55.562450     45.149487     51.880291   \n",
       "1488 2021-02-01 00:00:00  ...     54.120845     44.941983     50.814497   \n",
       "\n",
       "      10MKA10CE301XQ02  10MKA01CT367  10MKA01CT345  10MKA01CT333  \\\n",
       "0            30.699219     48.962856     49.977325     48.709290   \n",
       "1            35.494482     49.089649     50.104156     48.836071   \n",
       "2            10.618408     49.470055     50.484676     49.216446   \n",
       "3             7.450049     49.381289     50.357834     49.089649   \n",
       "4            -6.679443     48.709290     49.596863     48.328972   \n",
       "...                ...           ...           ...           ...   \n",
       "1484        -81.993066     51.499611     52.895653     51.499611   \n",
       "1485        -83.577197     51.372726     52.641781     51.372726   \n",
       "1486        -85.332666     51.372726     52.768715     51.480578   \n",
       "1487        -94.495280     51.330434     52.641781     51.372726   \n",
       "1488        -97.021509     50.230991     51.372726     50.104156   \n",
       "\n",
       "      10MKA01CT618  10MKA01CT353  10MKA01CT335  \n",
       "0        45.444761     49.723679     48.531802  \n",
       "1        45.778702     49.850502     48.582512  \n",
       "2        45.740217     50.230991     48.962856  \n",
       "3        45.740217     50.230991     48.836071  \n",
       "4        44.975907     49.470055     48.202209  \n",
       "...            ...           ...           ...  \n",
       "1484     48.610760     52.514854     50.992104  \n",
       "1485     48.748110     52.261017     50.865242  \n",
       "1486     48.366386     52.337166     50.865242  \n",
       "1487     48.404556     52.261017     50.738380  \n",
       "1488     48.160192     51.118973     49.768067  \n",
       "\n",
       "[1489 rows x 71 columns]"
      ]
     },
     "execution_count": 4,
     "metadata": {},
     "output_type": "execute_result"
    }
   ],
   "source": [
    "# 数据类型更改和校验、数据拼接\n",
    "data['TIME'] = pd.to_datetime(data['TIME'])\n",
    "data = data.infer_objects()\n",
    "data.columns =[col.strip() for col in data.columns]\n",
    "internal_factors = list(map(str.strip, internal_factors))\n",
    "external_factors = list(map(str.strip, external_factors))\n",
    "target_column = list(map(str.strip, target_column))\n",
    "df = data[list(set(['TIME'] + internal_factors + external_factors + target_column))]\n",
    "\n",
    "df = df.query(\"`10MKA10CE301XQ01` > 50\")\n",
    "df = df.fillna(df.mean()).reset_index(drop=True)\n",
    "df "
   ]
  },
  {
   "cell_type": "code",
   "execution_count": 46,
   "id": "3583cf1b",
   "metadata": {},
   "outputs": [],
   "source": [
    "# df[['TIME']+target_column][df[['TIME']+target_column]['TIME']<\"2021-01-30 10:30:00\"].tail(10)"
   ]
  },
  {
   "cell_type": "code",
   "execution_count": 23,
   "id": "af0dd247",
   "metadata": {},
   "outputs": [],
   "source": [
    "# df.query(\"TIME <= '2021-01-30 09:30:20'\")[['TIME','10MKA01CT361']].tail(15)"
   ]
  },
  {
   "cell_type": "code",
   "execution_count": 5,
   "id": "0922f537",
   "metadata": {},
   "outputs": [],
   "source": [
    "# 根据时间区分训练集（\"时间 < '2021-01-22 00:00:00'\"）、\n",
    "# 验证集（\"时间 >= '2021-01-22 00:00:00' & 时间 < '2021-01-27 00:00:00'\"）、\n",
    "# 测试集（\"时间 >= '2021-01-27 00:00:00'\"）\n",
    "# df_xc = df.query(\"时间 < '2021-01-01 07:00:00'\").reset_index(drop=True)\n",
    "df_train = df.query(\"TIME < '2021-01-28 00:00:00'\").reset_index(drop=True)\n",
    "df_val = df.query(\"TIME >= '2021-01-28 00:00:00' & TIME < '2021-01-30 00:00:00'\").reset_index(drop=True)\n",
    "df_test = df.query(\"TIME >= '2021-01-30 00:00:00'\").reset_index(drop=True)"
   ]
  },
  {
   "cell_type": "code",
   "execution_count": 6,
   "id": "09ca325f",
   "metadata": {},
   "outputs": [
    {
     "name": "stdout",
     "output_type": "stream",
     "text": [
      "(1296, 71)\n",
      "(96, 71)\n",
      "(97, 71)\n",
      "['10MKA10CE301XQ01']\n"
     ]
    }
   ],
   "source": [
    "print(df_train.shape)\n",
    "print(df_val.shape)\n",
    "print(df_test.shape)\n",
    "print(target_column)"
   ]
  },
  {
   "cell_type": "code",
   "execution_count": null,
   "id": "55fcdd9b",
   "metadata": {},
   "outputs": [],
   "source": []
  },
  {
   "cell_type": "markdown",
   "id": "82bc2f0b",
   "metadata": {},
   "source": [
    "### 提取特征"
   ]
  },
  {
   "cell_type": "code",
   "execution_count": 7,
   "id": "ff3e7e88",
   "metadata": {},
   "outputs": [],
   "source": [
    "def convert_sliding_window_data(data, target_column, window_size):\n",
    "    df_sliding_window = data.copy()\n",
    "    new_elements = df_sliding_window.columns.tolist()\n",
    "    new_elements.remove(\"TIME\")\n",
    "    \n",
    "    # 每个变量都进行shift\n",
    "    shift_cols = []\n",
    "    shift_col_names = []\n",
    "    for i in range(len(new_elements)):\n",
    "        for window in window_size:\n",
    "            shift_cols.append(df_sliding_window[new_elements[i]].shift(window))\n",
    "            shift_col_names.append(f'{new_elements[i]}_{window}')\n",
    "    \n",
    "    # 按照window计算统计特征\n",
    "    stats_cols = []\n",
    "    stats_col_names = []\n",
    "    for window in window_size[:-2]:\n",
    "        f_min = lambda x: x.rolling(window=window).min()\n",
    "        f_max = lambda x: x.rolling(window=window).max()\n",
    "        f_mean = lambda x: x.rolling(window=window).mean()\n",
    "        f_std = lambda x: x.rolling(window=window).std()\n",
    "        f_median = lambda x: x.rolling(window=window).median()\n",
    "#         f_skew = lambda x:x.rolling(window=window).skew()\n",
    "#         function_list = [f_min, f_max, f_mean, f_std, f_median, f_skew]\n",
    "#         function_name = ['min', 'max', 'mean', 'std', 'median', 'skew']\n",
    "        function_list = [f_min, f_max, f_mean, f_std, f_median]\n",
    "        function_name = ['min', 'max', 'mean', 'std', 'median']\n",
    "        for k in range(len(function_list)):\n",
    "            stats_cols.append(df_sliding_window[new_elements].apply(function_list[k]).shift(1))\n",
    "            stats_col_names.extend(pd.Series(df_sliding_window[new_elements].columns)\n",
    "                                   .apply(lambda x:x+str(f'_rolling_{window}_{function_name[k]}')).tolist())\n",
    "            \n",
    "    x_shift = pd.concat(shift_cols, axis=1)\n",
    "    x_shift.columns = shift_col_names\n",
    "\n",
    "    x_stats = pd.concat(stats_cols, axis=1)\n",
    "    x_stats.columns = stats_col_names\n",
    "    \n",
    "    df_sliding_window = pd.concat([df_sliding_window, x_shift, x_stats], axis=1)\n",
    "            \n",
    "    # 提取时间性的特征\n",
    "    df_sliding_window['Day'] = df_sliding_window['TIME'].dt.day\n",
    "    df_sliding_window['DayOfWeek'] = df_sliding_window['TIME'].dt.dayofweek\n",
    "    df_sliding_window['Hour'] = df_sliding_window['TIME'].dt.hour \n",
    "    df_sliding_window['minute'] = df_sliding_window['TIME'].dt.minute \n",
    "    \n",
    "    # 缺失值剔除+原变量剔除(因变量除外)\n",
    "    new_elements.remove(target_column[0])\n",
    "    df_sliding_window = df_sliding_window.dropna(axis=0, how='any').drop(new_elements, axis=1)\n",
    "    return df_sliding_window.reset_index(drop=True)"
   ]
  },
  {
   "cell_type": "code",
   "execution_count": 9,
   "id": "4dc68ea7",
   "metadata": {},
   "outputs": [
    {
     "name": "stdout",
     "output_type": "stream",
     "text": [
      "0:00:00.951953\n"
     ]
    }
   ],
   "source": [
    "time1 = datetime.now()\n",
    "# window_size=[10, 9, 8, 7, 6, 5, 4, 3, 2, 1]\n",
    "# window_size = [4, 3, 2, 1]\n",
    "window_size=[6, 5, 4, 3, 2, 1]\n",
    "df_train_window = convert_sliding_window_data(df_train, target_column, window_size)\n",
    "df_val_window = convert_sliding_window_data(df_val, target_column, window_size)\n",
    "df_test_window = convert_sliding_window_data(df_test, target_column, window_size)\n",
    "time2 = datetime.now()\n",
    "print(time2-time1)"
   ]
  },
  {
   "cell_type": "code",
   "execution_count": 11,
   "id": "aa6510ad",
   "metadata": {
    "scrolled": true
   },
   "outputs": [
    {
     "name": "stdout",
     "output_type": "stream",
     "text": [
      "(1290, 1826)\n",
      "(90, 1826)\n",
      "(91, 1826)\n"
     ]
    }
   ],
   "source": [
    "print(df_train_window.shape)\n",
    "print(df_val_window.shape)\n",
    "print(df_test_window.shape)"
   ]
  },
  {
   "cell_type": "code",
   "execution_count": null,
   "id": "66a539f5",
   "metadata": {
    "scrolled": true
   },
   "outputs": [],
   "source": []
  },
  {
   "cell_type": "code",
   "execution_count": 13,
   "id": "ce637a4d",
   "metadata": {
    "scrolled": true
   },
   "outputs": [],
   "source": [
    "# df_train_window[ ['TIME']+ df_train_window.columns[df_train_window.columns.str.contains('10MKA01CT603')].tolist()]"
   ]
  },
  {
   "cell_type": "code",
   "execution_count": 14,
   "id": "4dccd473",
   "metadata": {},
   "outputs": [],
   "source": [
    "# df_train.query(\"TIME <= '2021-01-01 03:00:00'\")[['10MKA01CT603', 'TIME']]"
   ]
  },
  {
   "cell_type": "code",
   "execution_count": null,
   "id": "fbbb4c33",
   "metadata": {},
   "outputs": [],
   "source": []
  },
  {
   "cell_type": "markdown",
   "id": "ecfa43b0",
   "metadata": {},
   "source": [
    "#### 制作未来半个小时待预测的数据集"
   ]
  },
  {
   "cell_type": "code",
   "execution_count": 15,
   "id": "049d01bf",
   "metadata": {},
   "outputs": [],
   "source": [
    "def make_window_predict_data(data, window_size):\n",
    "    max_window = max(window_size)\n",
    "    df_tobe_predicted = data.tail(max_window).copy()\n",
    "    new_elements = df_tobe_predicted.columns.tolist()\n",
    "    new_elements.remove(\"TIME\")\n",
    "    \n",
    "    shift_cols = []\n",
    "    shift_col_names = []\n",
    "    for i in range(len(new_elements)):\n",
    "        for window in window_size[1:]:\n",
    "            shift_cols.append(df_tobe_predicted[new_elements[i]].shift(window))\n",
    "            shift_col_names.append(f'{new_elements[i]}_{window+1}')\n",
    "    \n",
    "    stats_cols = []\n",
    "    stats_col_names = []\n",
    "    for window in window_size[:-2]:\n",
    "        f_min = lambda x: x.rolling(window=window).min()\n",
    "        f_max = lambda x: x.rolling(window=window).max()\n",
    "        f_mean = lambda x: x.rolling(window=window).mean()\n",
    "        f_std = lambda x: x.rolling(window=window).std()\n",
    "        f_median = lambda x: x.rolling(window=window).median()\n",
    "        function_list = [f_min, f_max, f_mean, f_std, f_median]\n",
    "        function_name = ['min', 'max', 'mean', 'std', 'median']\n",
    "        for k in range(len(function_list)):\n",
    "            stats_cols.append(df_tobe_predicted[new_elements].apply(function_list[k]))\n",
    "            stats_col_names.extend(pd.Series(df_tobe_predicted[new_elements].columns)\n",
    "                                   .apply(lambda x:x+str(f'_rolling_{window}_{function_name[k]}')).tolist())  \n",
    "            \n",
    "    x_shift = pd.concat(shift_cols, axis=1)\n",
    "    x_shift.columns = shift_col_names\n",
    "\n",
    "    x_stats = pd.concat(stats_cols, axis=1)\n",
    "    x_stats.columns = stats_col_names\n",
    "    df_tobe_predicted = pd.concat([df_tobe_predicted, x_shift, x_stats], axis=1).dropna(axis=0)\n",
    "    \n",
    "    df_tobe_predicted['Day'] = df_tobe_predicted['TIME'].dt.day\n",
    "    df_tobe_predicted['DayOfWeek'] = df_tobe_predicted['TIME'].dt.dayofweek\n",
    "    df_tobe_predicted['Hour'] = df_tobe_predicted['TIME'].dt.hour \n",
    "    df_tobe_predicted['minute'] = df_tobe_predicted['TIME'].dt.minute \n",
    "    \n",
    "    df_tobe_predicted.rename({new_elements[i]: new_elements[i]+str(f'_1') for i in range(len(new_elements))}, axis=1, inplace=True)\n",
    "    return df_tobe_predicted"
   ]
  },
  {
   "cell_type": "code",
   "execution_count": null,
   "id": "08bab5eb",
   "metadata": {},
   "outputs": [],
   "source": []
  },
  {
   "cell_type": "code",
   "execution_count": 22,
   "id": "e85a6460",
   "metadata": {},
   "outputs": [],
   "source": [
    "val_predict = make_window_predict_data(df_val, window_size)\n",
    "test_predict = make_window_predict_data(df_test, window_size)\n",
    "# df_th_predict = make_window_predict_data(df_th, window_size)"
   ]
  },
  {
   "cell_type": "code",
   "execution_count": 179,
   "id": "559e2540",
   "metadata": {},
   "outputs": [],
   "source": [
    "# val_predict[   ['时间'] + val_predict.columns[val_predict.columns.str.contains('10MKA10CE301XQ02')].tolist()     ]\n",
    "# df_val_window[ ['时间'] +df_val_window.columns[df_val_window.columns.str.contains('10MKA10CE301XQ02')].tolist()    ].tail(1)"
   ]
  },
  {
   "cell_type": "code",
   "execution_count": 180,
   "id": "eb019ed9",
   "metadata": {},
   "outputs": [],
   "source": [
    "# val_predict[   ['时间'] + val_predict.columns[val_predict.columns.str.contains(target_column[0])].tolist()     ]\n",
    "# df_val_window[ ['时间'] +df_val_window.columns[df_val_window.columns.str.contains(target_column[0])].tolist()    ].tail(1)"
   ]
  },
  {
   "cell_type": "code",
   "execution_count": 151,
   "id": "813bd8cb",
   "metadata": {},
   "outputs": [],
   "source": [
    "# max_window = max(window_size)\n",
    "# df_tobe_predicted = df_val.tail(max_window).copy()[['时间',target_column[0], '10MKA10CE301XQ02']]\n",
    "# new_elements = df_tobe_predicted.columns.tolist()\n",
    "# new_elements.remove(\"时间\")\n",
    "\n",
    "# shift_cols = []\n",
    "# shift_col_names = []\n",
    "# for i in range(len(new_elements)):\n",
    "#     for window in window_size[1:]:\n",
    "#         shift_cols.append(df_tobe_predicted[new_elements[i]].shift(window))\n",
    "#         shift_col_names.append(f'{new_elements[i]}_{window+1}')\n",
    "\n",
    "# x_shift = pd.concat(shift_cols, axis=1)\n",
    "# x_shift.columns = shift_col_names\n",
    "# pd.concat([df_tobe_predicted, x_shift], axis=1)"
   ]
  },
  {
   "cell_type": "code",
   "execution_count": null,
   "id": "b11151b7",
   "metadata": {},
   "outputs": [],
   "source": []
  },
  {
   "cell_type": "markdown",
   "id": "cd8c9dff",
   "metadata": {},
   "source": [
    "###  特征选择+模型训练+滑窗预测"
   ]
  },
  {
   "cell_type": "code",
   "execution_count": 23,
   "id": "569765a2",
   "metadata": {},
   "outputs": [],
   "source": [
    "train_cols = df_train_window.columns.tolist()\n",
    "train_cols.remove('TIME')\n",
    "train_cols.remove(target_column[0])"
   ]
  },
  {
   "cell_type": "code",
   "execution_count": 24,
   "id": "d2a17f3f",
   "metadata": {},
   "outputs": [
    {
     "data": {
      "text/plain": [
       "False"
      ]
     },
     "execution_count": 24,
     "metadata": {},
     "output_type": "execute_result"
    }
   ],
   "source": [
    "target_column[0] in train_cols"
   ]
  },
  {
   "cell_type": "code",
   "execution_count": 25,
   "id": "854e7624",
   "metadata": {},
   "outputs": [],
   "source": [
    "x_train, y_train = df_train_window[train_cols], df_train_window[target_column]\n",
    "x_val, y_val = df_val_window[train_cols], df_val_window[target_column]\n",
    "x_test, y_test = df_test_window[train_cols], df_test_window[target_column]"
   ]
  },
  {
   "cell_type": "code",
   "execution_count": 26,
   "id": "f22746b0",
   "metadata": {},
   "outputs": [
    {
     "name": "stdout",
     "output_type": "stream",
     "text": [
      "(1290, 1824)\n",
      "(90, 1824)\n",
      "(91, 1824)\n"
     ]
    }
   ],
   "source": [
    "print(x_train.shape)\n",
    "print(x_val.shape)\n",
    "print(x_test.shape)"
   ]
  },
  {
   "cell_type": "code",
   "execution_count": 27,
   "id": "a0d82ba7",
   "metadata": {},
   "outputs": [
    {
     "name": "stdout",
     "output_type": "stream",
     "text": [
      "(1, 1824)\n",
      "(1, 1824)\n"
     ]
    }
   ],
   "source": [
    "# 未来半个小时的数据的维度\n",
    "print(val_predict[train_cols].shape)\n",
    "print(test_predict[train_cols].shape)"
   ]
  },
  {
   "cell_type": "code",
   "execution_count": 28,
   "id": "deca17b3",
   "metadata": {
    "scrolled": true
   },
   "outputs": [
    {
     "name": "stdout",
     "output_type": "stream",
     "text": [
      "选择的特征是： Index(['10MKA10CE101XQ02_1', '10MKA10CE101XQ01_1', '10MKA10CE301XQ01_1',\n",
      "       '10MKA01CT379_1', '10MKA10CE301XQ02_6', '10MKA10CE301XQ02_1',\n",
      "       '10MKA01CT361_1', '10MKG10CT301_6', '10MKA10CE101XQ03_1',\n",
      "       '10MKA01CT603_rolling_6_std', '10MKA01CT601_rolling_5_std',\n",
      "       '10MKG10CT307_rolling_4_std', '10MKG10CT303_rolling_4_std',\n",
      "       '10MKF30CT302_rolling_3_mean', '10MKA01CT608_rolling_3_std',\n",
      "       '10MKA10CE301XQ01_rolling_3_std', '10MKG10CT301_rolling_3_std', 'Hour'],\n",
      "      dtype='object')\n",
      "特征选择后的数据： (1290, 18)\n"
     ]
    }
   ],
   "source": [
    "# 特征选择\n",
    "# reg = LassoCV(n_jobs=-1)\n",
    "reg = RandomForestRegressor(n_jobs=-1) \n",
    "reg.fit(x_train.values, y_train.values) \n",
    "feature_model = SelectFromModel(reg, prefit=True, max_features=int(x_train.shape[1]*0.8))\n",
    "x_train_new = feature_model.transform(x_train)\n",
    "model_selected_columns = x_train.columns[feature_model.get_support()]\n",
    "print(\"选择的特征是：\", model_selected_columns)\n",
    "print(\"特征选择后的数据：\", x_train_new.shape)"
   ]
  },
  {
   "cell_type": "code",
   "execution_count": null,
   "id": "7d088714",
   "metadata": {},
   "outputs": [],
   "source": []
  },
  {
   "cell_type": "code",
   "execution_count": 29,
   "id": "7b3bcac3",
   "metadata": {
    "scrolled": false
   },
   "outputs": [
    {
     "data": {
      "text/html": [
       "<style>#sk-container-id-1 {color: black;background-color: white;}#sk-container-id-1 pre{padding: 0;}#sk-container-id-1 div.sk-toggleable {background-color: white;}#sk-container-id-1 label.sk-toggleable__label {cursor: pointer;display: block;width: 100%;margin-bottom: 0;padding: 0.3em;box-sizing: border-box;text-align: center;}#sk-container-id-1 label.sk-toggleable__label-arrow:before {content: \"▸\";float: left;margin-right: 0.25em;color: #696969;}#sk-container-id-1 label.sk-toggleable__label-arrow:hover:before {color: black;}#sk-container-id-1 div.sk-estimator:hover label.sk-toggleable__label-arrow:before {color: black;}#sk-container-id-1 div.sk-toggleable__content {max-height: 0;max-width: 0;overflow: hidden;text-align: left;background-color: #f0f8ff;}#sk-container-id-1 div.sk-toggleable__content pre {margin: 0.2em;color: black;border-radius: 0.25em;background-color: #f0f8ff;}#sk-container-id-1 input.sk-toggleable__control:checked~div.sk-toggleable__content {max-height: 200px;max-width: 100%;overflow: auto;}#sk-container-id-1 input.sk-toggleable__control:checked~label.sk-toggleable__label-arrow:before {content: \"▾\";}#sk-container-id-1 div.sk-estimator input.sk-toggleable__control:checked~label.sk-toggleable__label {background-color: #d4ebff;}#sk-container-id-1 div.sk-label input.sk-toggleable__control:checked~label.sk-toggleable__label {background-color: #d4ebff;}#sk-container-id-1 input.sk-hidden--visually {border: 0;clip: rect(1px 1px 1px 1px);clip: rect(1px, 1px, 1px, 1px);height: 1px;margin: -1px;overflow: hidden;padding: 0;position: absolute;width: 1px;}#sk-container-id-1 div.sk-estimator {font-family: monospace;background-color: #f0f8ff;border: 1px dotted black;border-radius: 0.25em;box-sizing: border-box;margin-bottom: 0.5em;}#sk-container-id-1 div.sk-estimator:hover {background-color: #d4ebff;}#sk-container-id-1 div.sk-parallel-item::after {content: \"\";width: 100%;border-bottom: 1px solid gray;flex-grow: 1;}#sk-container-id-1 div.sk-label:hover label.sk-toggleable__label {background-color: #d4ebff;}#sk-container-id-1 div.sk-serial::before {content: \"\";position: absolute;border-left: 1px solid gray;box-sizing: border-box;top: 0;bottom: 0;left: 50%;z-index: 0;}#sk-container-id-1 div.sk-serial {display: flex;flex-direction: column;align-items: center;background-color: white;padding-right: 0.2em;padding-left: 0.2em;position: relative;}#sk-container-id-1 div.sk-item {position: relative;z-index: 1;}#sk-container-id-1 div.sk-parallel {display: flex;align-items: stretch;justify-content: center;background-color: white;position: relative;}#sk-container-id-1 div.sk-item::before, #sk-container-id-1 div.sk-parallel-item::before {content: \"\";position: absolute;border-left: 1px solid gray;box-sizing: border-box;top: 0;bottom: 0;left: 50%;z-index: -1;}#sk-container-id-1 div.sk-parallel-item {display: flex;flex-direction: column;z-index: 1;position: relative;background-color: white;}#sk-container-id-1 div.sk-parallel-item:first-child::after {align-self: flex-end;width: 50%;}#sk-container-id-1 div.sk-parallel-item:last-child::after {align-self: flex-start;width: 50%;}#sk-container-id-1 div.sk-parallel-item:only-child::after {width: 0;}#sk-container-id-1 div.sk-dashed-wrapped {border: 1px dashed gray;margin: 0 0.4em 0.5em 0.4em;box-sizing: border-box;padding-bottom: 0.4em;background-color: white;}#sk-container-id-1 div.sk-label label {font-family: monospace;font-weight: bold;display: inline-block;line-height: 1.2em;}#sk-container-id-1 div.sk-label-container {text-align: center;}#sk-container-id-1 div.sk-container {/* jupyter's `normalize.less` sets `[hidden] { display: none; }` but bootstrap.min.css set `[hidden] { display: none !important; }` so we also need the `!important` here to be able to override the default hidden behavior on the sphinx rendered scikit-learn.org. See: https://github.com/scikit-learn/scikit-learn/issues/21755 */display: inline-block !important;position: relative;}#sk-container-id-1 div.sk-text-repr-fallback {display: none;}</style><div id=\"sk-container-id-1\" class=\"sk-top-container\"><div class=\"sk-text-repr-fallback\"><pre>GridSearchCV(cv=3,\n",
       "             estimator=Pipeline(steps=[(&#x27;imputer&#x27;,\n",
       "                                        SimpleImputer(fill_value=-999,\n",
       "                                                      strategy=&#x27;constant&#x27;)),\n",
       "                                       (&#x27;model&#x27;, RandomForestRegressor())]),\n",
       "             n_jobs=-1,\n",
       "             param_grid={&#x27;model__max_depth&#x27;: [5, 15, 25, 35, 45],\n",
       "                         &#x27;model__n_estimators&#x27;: [10, 20, 30, 40]})</pre><b>In a Jupyter environment, please rerun this cell to show the HTML representation or trust the notebook. <br />On GitHub, the HTML representation is unable to render, please try loading this page with nbviewer.org.</b></div><div class=\"sk-container\" hidden><div class=\"sk-item sk-dashed-wrapped\"><div class=\"sk-label-container\"><div class=\"sk-label sk-toggleable\"><input class=\"sk-toggleable__control sk-hidden--visually\" id=\"sk-estimator-id-1\" type=\"checkbox\" ><label for=\"sk-estimator-id-1\" class=\"sk-toggleable__label sk-toggleable__label-arrow\">GridSearchCV</label><div class=\"sk-toggleable__content\"><pre>GridSearchCV(cv=3,\n",
       "             estimator=Pipeline(steps=[(&#x27;imputer&#x27;,\n",
       "                                        SimpleImputer(fill_value=-999,\n",
       "                                                      strategy=&#x27;constant&#x27;)),\n",
       "                                       (&#x27;model&#x27;, RandomForestRegressor())]),\n",
       "             n_jobs=-1,\n",
       "             param_grid={&#x27;model__max_depth&#x27;: [5, 15, 25, 35, 45],\n",
       "                         &#x27;model__n_estimators&#x27;: [10, 20, 30, 40]})</pre></div></div></div><div class=\"sk-parallel\"><div class=\"sk-parallel-item\"><div class=\"sk-item\"><div class=\"sk-label-container\"><div class=\"sk-label sk-toggleable\"><input class=\"sk-toggleable__control sk-hidden--visually\" id=\"sk-estimator-id-2\" type=\"checkbox\" ><label for=\"sk-estimator-id-2\" class=\"sk-toggleable__label sk-toggleable__label-arrow\">estimator: Pipeline</label><div class=\"sk-toggleable__content\"><pre>Pipeline(steps=[(&#x27;imputer&#x27;,\n",
       "                 SimpleImputer(fill_value=-999, strategy=&#x27;constant&#x27;)),\n",
       "                (&#x27;model&#x27;, RandomForestRegressor())])</pre></div></div></div><div class=\"sk-serial\"><div class=\"sk-item\"><div class=\"sk-serial\"><div class=\"sk-item\"><div class=\"sk-estimator sk-toggleable\"><input class=\"sk-toggleable__control sk-hidden--visually\" id=\"sk-estimator-id-3\" type=\"checkbox\" ><label for=\"sk-estimator-id-3\" class=\"sk-toggleable__label sk-toggleable__label-arrow\">SimpleImputer</label><div class=\"sk-toggleable__content\"><pre>SimpleImputer(fill_value=-999, strategy=&#x27;constant&#x27;)</pre></div></div></div><div class=\"sk-item\"><div class=\"sk-estimator sk-toggleable\"><input class=\"sk-toggleable__control sk-hidden--visually\" id=\"sk-estimator-id-4\" type=\"checkbox\" ><label for=\"sk-estimator-id-4\" class=\"sk-toggleable__label sk-toggleable__label-arrow\">RandomForestRegressor</label><div class=\"sk-toggleable__content\"><pre>RandomForestRegressor()</pre></div></div></div></div></div></div></div></div></div></div></div></div>"
      ],
      "text/plain": [
       "GridSearchCV(cv=3,\n",
       "             estimator=Pipeline(steps=[('imputer',\n",
       "                                        SimpleImputer(fill_value=-999,\n",
       "                                                      strategy='constant')),\n",
       "                                       ('model', RandomForestRegressor())]),\n",
       "             n_jobs=-1,\n",
       "             param_grid={'model__max_depth': [5, 15, 25, 35, 45],\n",
       "                         'model__n_estimators': [10, 20, 30, 40]})"
      ]
     },
     "execution_count": 29,
     "metadata": {},
     "output_type": "execute_result"
    }
   ],
   "source": [
    "# 随机森林\n",
    "pipe = Pipeline(steps=[\n",
    "('imputer', SimpleImputer(strategy='constant', fill_value=-999)),\n",
    "('model', RandomForestRegressor())])\n",
    "param_grid = {'model__n_estimators':[*range(10, 50, 10)],\n",
    "              'model__max_depth':[*range(5, 50, 10)]}\n",
    "\n",
    "# 网格搜索\n",
    "grid = GridSearchCV(estimator=pipe, param_grid=param_grid, cv=3, n_jobs=-1) \n",
    "grid.fit(x_train_new, y_train.values)\n",
    "# grid.fit(x_train.values, y_train.values)"
   ]
  },
  {
   "cell_type": "code",
   "execution_count": 30,
   "id": "308666cf",
   "metadata": {},
   "outputs": [],
   "source": [
    "# 在验证集上的结果(mape,r2,mae,mse)、真实值和预测值的最大差异\n",
    "pred_val_value = grid.predict(x_val[model_selected_columns].values)\n",
    "# pred_val_value = grid.predict(x_val.values)\n",
    "val_mape = mean_absolute_percentage_error(y_val.values, pred_val_value)\n",
    "val_r2 = r2_score(y_val.values, pred_val_value)\n",
    "val_mae = mean_absolute_error(y_val.values, pred_val_value)\n",
    "val_mse = mean_squared_error(y_val.values, pred_val_value)\n",
    "val_max_diff_value = max(abs(y_val.values.ravel() - pred_val_value))\n",
    "\n",
    "\n",
    "# 在测试集上的结果(mape,r2,mae,mse)、真实值和预测值的最大差异\n",
    "pred_test_value = grid.predict(x_test[model_selected_columns].values)\n",
    "test_mape = mean_absolute_percentage_error(y_test.values, pred_test_value)\n",
    "test_r2 = r2_score(y_test.values, pred_test_value)\n",
    "test_mae = mean_absolute_error(y_test.values, pred_test_value)\n",
    "test_mse = mean_squared_error(y_test.values, pred_test_value)\n",
    "test_max_diff_value = max(abs(y_test.values.ravel() - pred_test_value))\n",
    "\n",
    "\n",
    "# 未来半个小时的数据预测\n",
    "val_pred_value = grid.predict(val_predict[model_selected_columns].values)[0]\n",
    "test_pred_value = grid.predict(test_predict[model_selected_columns].values)[0]"
   ]
  },
  {
   "cell_type": "code",
   "execution_count": 31,
   "id": "faf5a534",
   "metadata": {},
   "outputs": [
    {
     "data": {
      "text/html": [
       "<div>\n",
       "<style scoped>\n",
       "    .dataframe tbody tr th:only-of-type {\n",
       "        vertical-align: middle;\n",
       "    }\n",
       "\n",
       "    .dataframe tbody tr th {\n",
       "        vertical-align: top;\n",
       "    }\n",
       "\n",
       "    .dataframe thead th {\n",
       "        text-align: right;\n",
       "    }\n",
       "</style>\n",
       "<table border=\"1\" class=\"dataframe\">\n",
       "  <thead>\n",
       "    <tr style=\"text-align: right;\">\n",
       "      <th></th>\n",
       "      <th>因变量</th>\n",
       "      <th>val_mape</th>\n",
       "      <th>val_r2</th>\n",
       "      <th>val_mae</th>\n",
       "      <th>val_mse</th>\n",
       "      <th>val_max_diff_value</th>\n",
       "      <th>val_pred_value</th>\n",
       "      <th>test_mape</th>\n",
       "      <th>test_r2</th>\n",
       "      <th>test_mae</th>\n",
       "      <th>test_mse</th>\n",
       "      <th>test_max_diff_value</th>\n",
       "      <th>test_pred_value</th>\n",
       "    </tr>\n",
       "  </thead>\n",
       "  <tbody>\n",
       "    <tr>\n",
       "      <th>1</th>\n",
       "      <td>10MKA10CE301XQ01</td>\n",
       "      <td>0.069791</td>\n",
       "      <td>0.837696</td>\n",
       "      <td>38.237613</td>\n",
       "      <td>3201.948658</td>\n",
       "      <td>197.318736</td>\n",
       "      <td>425.992129</td>\n",
       "      <td>0.069553</td>\n",
       "      <td>0.818127</td>\n",
       "      <td>38.985814</td>\n",
       "      <td>3843.86984</td>\n",
       "      <td>213.010585</td>\n",
       "      <td>401.806328</td>\n",
       "    </tr>\n",
       "  </tbody>\n",
       "</table>\n",
       "</div>"
      ],
      "text/plain": [
       "                因变量  val_mape    val_r2    val_mae      val_mse  \\\n",
       "1  10MKA10CE301XQ01  0.069791  0.837696  38.237613  3201.948658   \n",
       "\n",
       "   val_max_diff_value  val_pred_value  test_mape   test_r2   test_mae  \\\n",
       "1          197.318736      425.992129   0.069553  0.818127  38.985814   \n",
       "\n",
       "     test_mse  test_max_diff_value  test_pred_value  \n",
       "1  3843.86984           213.010585       401.806328  "
      ]
     },
     "execution_count": 31,
     "metadata": {},
     "output_type": "execute_result"
    }
   ],
   "source": [
    "res_featured = pd.DataFrame({ '因变量':target_column[0], \n",
    "                             'val_mape':val_mape, 'val_r2':val_r2, 'val_mae':val_mae, 'val_mse':val_mse, \n",
    "                             'val_max_diff_value':val_max_diff_value,\n",
    "                             'val_pred_value':val_pred_value,\n",
    "                            'test_mape':test_mape, 'test_r2':test_r2, 'test_mae':test_mae, 'test_mse':test_mse,\n",
    "                            'test_max_diff_value':test_max_diff_value,\n",
    "                            'test_pred_value':test_pred_value}, index=[1])\n",
    "\n",
    "res_featured"
   ]
  },
  {
   "cell_type": "code",
   "execution_count": 52,
   "id": "dc44d1b4",
   "metadata": {},
   "outputs": [],
   "source": [
    "# grid.predict(df_th_predict[model_selected_columns].values)[0]"
   ]
  },
  {
   "cell_type": "code",
   "execution_count": null,
   "id": "d2af7a92",
   "metadata": {},
   "outputs": [],
   "source": []
  },
  {
   "cell_type": "code",
   "execution_count": 32,
   "id": "76f2caf5",
   "metadata": {
    "scrolled": true
   },
   "outputs": [
    {
     "data": {
      "text/plain": [
       "[<matplotlib.lines.Line2D at 0x19aa1e61640>]"
      ]
     },
     "execution_count": 32,
     "metadata": {},
     "output_type": "execute_result"
    },
    {
     "data": {
      "image/png": "[encoded data removed]",
      "text/plain": [
       "<Figure size 1400x400 with 1 Axes>"
      ]
     },
     "metadata": {},
     "output_type": "display_data"
    }
   ],
   "source": [
    "# 验证集真实数据和预测数据可视化\n",
    "plt.figure(figsize=(14, 4))\n",
    "plt.plot(df_val_window['TIME'], df_val_window[target_column], c='red', marker='*', linestyle='-', label=df_val_window[target_column])\n",
    "plt.plot(df_val_window['TIME'], pred_val_value, c='blue', marker='o', linestyle=':', label='pred')"
   ]
  },
  {
   "cell_type": "code",
   "execution_count": 33,
   "id": "2ff01021",
   "metadata": {},
   "outputs": [
    {
     "data": {
      "text/plain": [
       "[<matplotlib.lines.Line2D at 0x19aa1e33910>]"
      ]
     },
     "execution_count": 33,
     "metadata": {},
     "output_type": "execute_result"
    },
    {
     "data": {
      "image/png": "[encoded data removed]",
      "text/plain": [
       "<Figure size 1400x400 with 1 Axes>"
      ]
     },
     "metadata": {},
     "output_type": "display_data"
    }
   ],
   "source": [
    "# 测试集真实数据和预测数据可视化\n",
    "plt.figure(figsize=(14, 4))\n",
    "plt.plot(df_test_window['TIME'], df_test_window[target_column], c='red', marker='*', linestyle='-', label=df_test_window[target_column])\n",
    "plt.plot(df_test_window['TIME'], pred_test_value, c='blue', marker='o', linestyle=':', label='pred')"
   ]
  },
  {
   "cell_type": "code",
   "execution_count": null,
   "id": "14cb7faf",
   "metadata": {},
   "outputs": [],
   "source": []
  },
  {
   "cell_type": "code",
   "execution_count": null,
   "id": "bd387535",
   "metadata": {},
   "outputs": [],
   "source": []
  }
 ],
 "metadata": {
  "kernelspec": {
   "display_name": "Python 3",
   "language": "python",
   "name": "python3"
  },
  "language_info": {
   "codemirror_mode": {
    "name": "ipython",
    "version": 3
   },
   "file_extension": ".py",
   "mimetype": "text/x-python",
   "name": "python",
   "nbconvert_exporter": "python",
   "pygments_lexer": "ipython3",
   "version": "3.9.13"
  }
 },
 "nbformat": 4,
 "nbformat_minor": 5
}
